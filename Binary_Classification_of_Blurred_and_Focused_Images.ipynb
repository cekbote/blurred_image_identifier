{
 "cells": [
  {
   "cell_type": "markdown",
   "metadata": {},
   "source": [
    "# Binary Classification of Blurred and Focused Images"
   ]
  },
  {
   "cell_type": "markdown",
   "metadata": {},
   "source": [
    "## Convolutional Neural Network Based Approach"
   ]
  },
  {
   "cell_type": "markdown",
   "metadata": {},
   "source": [
    "### Importing the Libraries"
   ]
  },
  {
   "cell_type": "code",
   "execution_count": 280,
   "metadata": {},
   "outputs": [
    {
     "name": "stdout",
     "output_type": "stream",
     "text": [
      "Version: 1.15.0\n"
     ]
    }
   ],
   "source": [
    "import cv2\n",
    "import matplotlib.pyplot as plt\n",
    "%matplotlib inline\n",
    "from os import listdir\n",
    "from os.path import isfile, join\n",
    "import numpy as np\n",
    "import tensorflow as tf\n",
    "from tensorflow.keras import layers, models, optimizers\n",
    "from tensorflow.keras import backend as K\n",
    "from tensorflow.keras import losses\n",
    "from tensorflow.keras.utils import plot_model\n",
    "from sklearn.metrics import confusion_matrix\n",
    "import matplotlib.pyplot as plt\n",
    "print(\"Version:\", tf.__version__)\n",
    "import pandas as pd\n",
    "from scipy.ndimage import variance\n",
    "from skimage import io\n",
    "from skimage.color import rgb2gray\n",
    "from skimage.filters import laplace\n",
    "from skimage.transform import resize"
   ]
  },
  {
   "cell_type": "markdown",
   "metadata": {},
   "source": [
    "### Getting the Image Paths\n",
    "\n",
    "Add the paths to the image folders as shown below"
   ]
  },
  {
   "cell_type": "code",
   "execution_count": 281,
   "metadata": {},
   "outputs": [],
   "source": [
    "train_path_1_blur = 'CERTH_ImageBlurDataset\\\\TrainingSet\\\\Artificially-Blurred\\\\'\n",
    "train_path_2_blur = 'CERTH_ImageBlurDataset\\\\TrainingSet\\\\Naturally-Blurred\\\\'\n",
    "train_path_focused = 'CERTH_ImageBlurDataset\\\\TrainingSet\\\\Undistorted\\\\'\n",
    "eval_path_1_blur = 'CERTH_ImageBlurDataset\\\\EvaluationSet\\\\DigitalBlurSet\\\\'\n",
    "eval_path_2_blur = 'CERTH_ImageBlurDataset\\\\EvaluationSet\\\\NaturalBlurSet\\\\'\n",
    "\n",
    "blur_arti = [f for f in listdir(train_path_1_blur) if isfile(join(train_path_1_blur, f))]\n",
    "blur_actual = [f for f in listdir(train_path_2_blur) if isfile(join(train_path_2_blur, f))]\n",
    "focused = [f for f in listdir(train_path_focused) if isfile(join(train_path_focused, f))]\n",
    "eval_blur_arti = [f for f in listdir(eval_path_1_blur) if isfile(join(eval_path_1_blur, f))]\n",
    "eval_blur_nat = [f for f in listdir(eval_path_2_blur) if isfile(join(eval_path_2_blur, f))]\n",
    "\n",
    "train_blur = []\n",
    "train_focused = []\n",
    "\n",
    "for i in blur_arti:\n",
    "    train_blur.append(train_path_1_blur+i)\n",
    "    \n",
    "for i in blur_actual:\n",
    "    train_blur.append(train_path_2_blur+i)\n",
    "\n",
    "for i in focused:\n",
    "    train_focused.append(train_path_focused+i)"
   ]
  },
  {
   "cell_type": "markdown",
   "metadata": {},
   "source": [
    "### Preprocessing Functions"
   ]
  },
  {
   "cell_type": "code",
   "execution_count": 284,
   "metadata": {},
   "outputs": [],
   "source": [
    "def import_train_dataset(train_blur, train_focused, image_side, batch_size):\n",
    "    \n",
    "    '''\n",
    "        Function that combines the blurred images and focused images to create the training\n",
    "        dataset. The function first creates a smaller image of size (image_side, image_side, 3)\n",
    "        and then finds the 2D-DFT on that image. Next the variance of the laplacian of the original\n",
    "        image is also calulated. Finally the labels are created and then the dataset is shuffled and\n",
    "        returned.\n",
    "        \n",
    "        Args:\n",
    "            train_blur: Path of all the blurred training images.\n",
    "            train_focused: Path of all the focused images.\n",
    "            image_side: Dimension of the smaller image that has to be extracted.\n",
    "            batch_size: Batch of the images that have to be returned.\n",
    "            \n",
    "        Returns:\n",
    "            images: Contains the smaller image extracted from the original.\n",
    "            labels: Contains the images.\n",
    "            var_lap: Contains the variance of the laplacian\n",
    "            fft: Contains the 2D DFT of the smaller image.   \n",
    "    '''\n",
    "    \n",
    "    n = int(batch_size/2);\n",
    "    half_side = int(image_side/2)\n",
    "    path_blur = np.random.randint((np.shape(train_blur)[0]-1), size=(n))\n",
    "    path_focused = np.random.randint((np.shape(train_focused)[0]-1), size=(n))\n",
    "    \n",
    "    images = []\n",
    "    labels = []\n",
    "    var_lap = []\n",
    "    fft = []\n",
    "    \n",
    "    for i in path_blur:\n",
    "        image = cv2.imread(train_blur[i])\n",
    "        [x,y,_] = np.shape(image)\n",
    "        var_lap.append([np.var(cv2.Laplacian(image, cv2.CV_64F))])\n",
    "        image = image[(int(x/2)-half_side):(int(x/2)+half_side), (int(y/2)-half_side):(int(y/2)+half_side), :]\n",
    "        ftimage = np.fft.fft2(image)\n",
    "        ftimage = np.fft.fftshift(ftimage)\n",
    "        fft.append(abs(ftimage))\n",
    "        images.append(image)\n",
    "        labels.append([1])\n",
    "        \n",
    "    for i in path_focused:\n",
    "        image = cv2.imread(train_focused[i])\n",
    "        [x,y,_] = np.shape(image)\n",
    "        var_lap.append([np.var(cv2.Laplacian(image, cv2.CV_64F))])\n",
    "        image = image[(int(x/2)-half_side):(int(x/2)+half_side), (int(y/2)-half_side):(int(y/2)+half_side), :]\n",
    "        ftimage = np.fft.fft2(image)\n",
    "        ftimage = np.fft.fftshift(ftimage)\n",
    "        fft.append(abs(ftimage))\n",
    "        images.append(image)\n",
    "        labels.append([0])\n",
    "\n",
    "    images = np.asarray(images, dtype=np.float32)/255\n",
    "    labels = np.asarray(labels, dtype=np.float32)\n",
    "    var_lap = np.asarray(var_lap, dtype=np.float32) / 1000\n",
    "    fft = np.asarray(fft, dtype=np.float32)/10000000\n",
    "    \n",
    "    seed = np.random.randint(100)\n",
    "    np.random.seed(seed)\n",
    "    np.random.shuffle(images)\n",
    "    np.random.seed(seed)\n",
    "    np.random.shuffle(labels)\n",
    "    np.random.seed(seed)\n",
    "    np.random.shuffle(var_lap)\n",
    "    np.random.seed(seed)\n",
    "    np.random.shuffle(fft)\n",
    "    \n",
    "    return images, labels, var_lap, fft"
   ]
  },
  {
   "cell_type": "code",
   "execution_count": 283,
   "metadata": {},
   "outputs": [],
   "source": [
    "def create_model(image_side):\n",
    "    \n",
    "    '''\n",
    "        Function that creates the CNN and returns the CNN\n",
    "        \n",
    "        Args:\n",
    "            image_side: Contains the dimension of the image that would be trained\n",
    "        \n",
    "        Returns:\n",
    "            model: Contains the CNN.\n",
    "    '''\n",
    "    \n",
    "    \n",
    "    input_shape = (image_side, image_side, 3)\n",
    "    input_image = layers.Input(shape = input_shape)\n",
    "    input_fft = layers.Input(shape = input_shape)\n",
    "    input_var_lap = layers.Input(shape = (1,))\n",
    "    \n",
    "    # image input\n",
    "    img = layers.Conv2D(32, (2, 2), activation='relu', input_shape=input_shape)(input_image)\n",
    "    img = layers.MaxPooling2D((4, 4))(img)\n",
    "    img = layers.BatchNormalization()(img)\n",
    "    img = layers.Conv2D(16, (2, 2), activation='relu')(img)\n",
    "    img = layers.MaxPooling2D((4, 4))(img)\n",
    "    img = layers.BatchNormalization()(img)\n",
    "    img = layers.Conv2D(8, (2, 2), activation='relu')(img)\n",
    "    img = layers.MaxPooling2D((4, 4))(img)\n",
    "    img = layers.BatchNormalization()(img)\n",
    "    img = layers.Flatten()(img)\n",
    "    \n",
    "    # fft input\n",
    "    fft = layers.Conv2D(32, (2, 2), activation='relu', input_shape=input_shape)(input_fft)\n",
    "    fft = layers.MaxPooling2D((4, 4))(fft)\n",
    "    fft = layers.BatchNormalization()(fft)\n",
    "    fft = layers.Conv2D(16, (2, 2), activation='relu')(fft)\n",
    "    fft = layers.MaxPooling2D((4, 4))(fft)\n",
    "    fft = layers.BatchNormalization()(fft)\n",
    "    fft = layers.Conv2D(8, (2, 2), activation='relu')(fft)\n",
    "    fft = layers.MaxPooling2D((4, 4))(fft)\n",
    "    fft = layers.BatchNormalization()(fft)\n",
    "    fft = layers.Flatten()(fft)\n",
    "    \n",
    "    # var_lap input\n",
    "    var_lap = layers.Dense(1, activation='relu', input_shape =(1,))(input_var_lap)\n",
    "    var_lap = layers.Dense(1, activation='relu')(input_var_lap)\n",
    "    \n",
    "    # conmbining the 3 \n",
    "    combined = layers.Concatenate(axis=1)([img, fft, var_lap])\n",
    "    combined = layers.Dense(200, activation='relu')(combined)\n",
    "    combined = layers.BatchNormalization()(combined)\n",
    "    combined = layers.Dense(100, activation='relu')(combined)\n",
    "    combined = layers.BatchNormalization()(combined)\n",
    "    combined = layers.Dense(50, activation='relu')(combined)\n",
    "    combined = layers.BatchNormalization()(combined)\n",
    "    combined = layers.Dense(10, activation='relu')(combined)\n",
    "    out = layers.Dense(1, activation='sigmoid')(combined)\n",
    "    \n",
    "    model = models.Model(inputs=[input_image, input_fft, input_var_lap], outputs=[out])\n",
    "    adam_ = tf.keras.optimizers.Adam(lr = 0.01)\n",
    "    model.compile(loss='binary_crossentropy', optimizer=adam_, metrics=['accuracy'])\n",
    "    \n",
    "    return model"
   ]
  },
  {
   "cell_type": "markdown",
   "metadata": {},
   "source": [
    "### Defining the CNN"
   ]
  },
  {
   "cell_type": "code",
   "execution_count": 286,
   "metadata": {
    "scrolled": false
   },
   "outputs": [
    {
     "name": "stdout",
     "output_type": "stream",
     "text": [
      "Model: \"model_17\"\n",
      "__________________________________________________________________________________________________\n",
      "Layer (type)                    Output Shape         Param #     Connected to                     \n",
      "==================================================================================================\n",
      "input_55 (InputLayer)           [(None, 400, 400, 3) 0                                            \n",
      "__________________________________________________________________________________________________\n",
      "input_56 (InputLayer)           [(None, 400, 400, 3) 0                                            \n",
      "__________________________________________________________________________________________________\n",
      "conv2d_96 (Conv2D)              (None, 399, 399, 32) 416         input_55[0][0]                   \n",
      "__________________________________________________________________________________________________\n",
      "conv2d_99 (Conv2D)              (None, 399, 399, 32) 416         input_56[0][0]                   \n",
      "__________________________________________________________________________________________________\n",
      "max_pooling2d_96 (MaxPooling2D) (None, 99, 99, 32)   0           conv2d_96[0][0]                  \n",
      "__________________________________________________________________________________________________\n",
      "max_pooling2d_99 (MaxPooling2D) (None, 99, 99, 32)   0           conv2d_99[0][0]                  \n",
      "__________________________________________________________________________________________________\n",
      "batch_normalization_123 (BatchN (None, 99, 99, 32)   128         max_pooling2d_96[0][0]           \n",
      "__________________________________________________________________________________________________\n",
      "batch_normalization_126 (BatchN (None, 99, 99, 32)   128         max_pooling2d_99[0][0]           \n",
      "__________________________________________________________________________________________________\n",
      "conv2d_97 (Conv2D)              (None, 98, 98, 16)   2064        batch_normalization_123[0][0]    \n",
      "__________________________________________________________________________________________________\n",
      "conv2d_100 (Conv2D)             (None, 98, 98, 16)   2064        batch_normalization_126[0][0]    \n",
      "__________________________________________________________________________________________________\n",
      "max_pooling2d_97 (MaxPooling2D) (None, 24, 24, 16)   0           conv2d_97[0][0]                  \n",
      "__________________________________________________________________________________________________\n",
      "max_pooling2d_100 (MaxPooling2D (None, 24, 24, 16)   0           conv2d_100[0][0]                 \n",
      "__________________________________________________________________________________________________\n",
      "batch_normalization_124 (BatchN (None, 24, 24, 16)   64          max_pooling2d_97[0][0]           \n",
      "__________________________________________________________________________________________________\n",
      "batch_normalization_127 (BatchN (None, 24, 24, 16)   64          max_pooling2d_100[0][0]          \n",
      "__________________________________________________________________________________________________\n",
      "conv2d_98 (Conv2D)              (None, 23, 23, 8)    520         batch_normalization_124[0][0]    \n",
      "__________________________________________________________________________________________________\n",
      "conv2d_101 (Conv2D)             (None, 23, 23, 8)    520         batch_normalization_127[0][0]    \n",
      "__________________________________________________________________________________________________\n",
      "max_pooling2d_98 (MaxPooling2D) (None, 5, 5, 8)      0           conv2d_98[0][0]                  \n",
      "__________________________________________________________________________________________________\n",
      "max_pooling2d_101 (MaxPooling2D (None, 5, 5, 8)      0           conv2d_101[0][0]                 \n",
      "__________________________________________________________________________________________________\n",
      "batch_normalization_125 (BatchN (None, 5, 5, 8)      32          max_pooling2d_98[0][0]           \n",
      "__________________________________________________________________________________________________\n",
      "batch_normalization_128 (BatchN (None, 5, 5, 8)      32          max_pooling2d_101[0][0]          \n",
      "__________________________________________________________________________________________________\n",
      "input_57 (InputLayer)           [(None, 1)]          0                                            \n",
      "__________________________________________________________________________________________________\n",
      "flatten_32 (Flatten)            (None, 200)          0           batch_normalization_125[0][0]    \n",
      "__________________________________________________________________________________________________\n",
      "flatten_33 (Flatten)            (None, 200)          0           batch_normalization_128[0][0]    \n",
      "__________________________________________________________________________________________________\n",
      "dense_106 (Dense)               (None, 1)            2           input_57[0][0]                   \n",
      "__________________________________________________________________________________________________\n",
      "concatenate_18 (Concatenate)    (None, 401)          0           flatten_32[0][0]                 \n",
      "                                                                 flatten_33[0][0]                 \n",
      "                                                                 dense_106[0][0]                  \n",
      "__________________________________________________________________________________________________\n",
      "dense_107 (Dense)               (None, 200)          80400       concatenate_18[0][0]             \n",
      "__________________________________________________________________________________________________\n",
      "batch_normalization_129 (BatchN (None, 200)          800         dense_107[0][0]                  \n",
      "__________________________________________________________________________________________________\n",
      "dense_108 (Dense)               (None, 100)          20100       batch_normalization_129[0][0]    \n",
      "__________________________________________________________________________________________________\n",
      "batch_normalization_130 (BatchN (None, 100)          400         dense_108[0][0]                  \n",
      "__________________________________________________________________________________________________\n",
      "dense_109 (Dense)               (None, 50)           5050        batch_normalization_130[0][0]    \n",
      "__________________________________________________________________________________________________\n",
      "batch_normalization_131 (BatchN (None, 50)           200         dense_109[0][0]                  \n",
      "__________________________________________________________________________________________________\n",
      "dense_110 (Dense)               (None, 10)           510         batch_normalization_131[0][0]    \n",
      "__________________________________________________________________________________________________\n",
      "dense_111 (Dense)               (None, 1)            11          dense_110[0][0]                  \n",
      "==================================================================================================\n",
      "Total params: 113,921\n",
      "Trainable params: 112,997\n",
      "Non-trainable params: 924\n",
      "__________________________________________________________________________________________________\n"
     ]
    }
   ],
   "source": [
    "model = create_model(image_side)\n",
    "model.summary()"
   ]
  },
  {
   "cell_type": "markdown",
   "metadata": {},
   "source": [
    "### Training the CNN"
   ]
  },
  {
   "cell_type": "code",
   "execution_count": 288,
   "metadata": {
    "scrolled": false
   },
   "outputs": [
    {
     "name": "stdout",
     "output_type": "stream",
     "text": [
      "Iteration: 1\n",
      "Train on 64 samples\n",
      "64/64 [==============================] - 7s 102ms/sample - loss: 0.8380 - acc: 0.4531\n",
      "_____________________________________________________________________\n",
      "Iteration: 2\n",
      "Train on 64 samples\n",
      "64/64 [==============================] - 5s 77ms/sample - loss: 0.6388 - acc: 0.6250\n",
      "_____________________________________________________________________\n",
      "Iteration: 3\n",
      "Train on 64 samples\n",
      "64/64 [==============================] - 5s 76ms/sample - loss: 0.7465 - acc: 0.5938\n",
      "_____________________________________________________________________\n",
      "Iteration: 4\n",
      "Train on 64 samples\n",
      "64/64 [==============================] - 5s 75ms/sample - loss: 0.5866 - acc: 0.6250\n",
      "_____________________________________________________________________\n",
      "Iteration: 5\n",
      "Train on 64 samples\n",
      "64/64 [==============================] - 5s 76ms/sample - loss: 0.5976 - acc: 0.6406\n",
      "_____________________________________________________________________\n",
      "Iteration: 6\n",
      "Train on 64 samples\n",
      "64/64 [==============================] - 5s 75ms/sample - loss: 0.5288 - acc: 0.6562\n",
      "_____________________________________________________________________\n",
      "Iteration: 7\n",
      "Train on 64 samples\n",
      "64/64 [==============================] - 5s 75ms/sample - loss: 0.7163 - acc: 0.6094\n",
      "_____________________________________________________________________\n",
      "Iteration: 8\n",
      "Train on 64 samples\n",
      "64/64 [==============================] - 5s 79ms/sample - loss: 0.5481 - acc: 0.7500\n",
      "_____________________________________________________________________\n",
      "Iteration: 9\n",
      "Train on 64 samples\n",
      "64/64 [==============================] - 5s 74ms/sample - loss: 0.5396 - acc: 0.7500\n",
      "_____________________________________________________________________\n",
      "Iteration: 10\n",
      "Train on 64 samples\n",
      "64/64 [==============================] - 5s 75ms/sample - loss: 0.6071 - acc: 0.7031\n",
      "_____________________________________________________________________\n",
      "Iteration: 11\n",
      "Train on 64 samples\n",
      "64/64 [==============================] - 5s 73ms/sample - loss: 0.3408 - acc: 0.8906\n",
      "_____________________________________________________________________\n",
      "Iteration: 12\n",
      "Train on 64 samples\n",
      "64/64 [==============================] - 5s 75ms/sample - loss: 0.3738 - acc: 0.8125\n",
      "_____________________________________________________________________\n",
      "Iteration: 13\n",
      "Train on 64 samples\n",
      "64/64 [==============================] - 5s 74ms/sample - loss: 0.3605 - acc: 0.8750\n",
      "_____________________________________________________________________\n",
      "Iteration: 14\n",
      "Train on 64 samples\n",
      "64/64 [==============================] - 5s 77ms/sample - loss: 0.2820 - acc: 0.9219\n",
      "_____________________________________________________________________\n",
      "Iteration: 15\n",
      "Train on 64 samples\n",
      "64/64 [==============================] - 5s 76ms/sample - loss: 0.3149 - acc: 0.8594\n",
      "_____________________________________________________________________\n",
      "Iteration: 16\n",
      "Train on 64 samples\n",
      "64/64 [==============================] - 5s 73ms/sample - loss: 0.2837 - acc: 0.8906\n",
      "_____________________________________________________________________\n",
      "Iteration: 17\n",
      "Train on 64 samples\n",
      "64/64 [==============================] - 5s 76ms/sample - loss: 0.1851 - acc: 0.9375\n",
      "_____________________________________________________________________\n",
      "Iteration: 18\n",
      "Train on 64 samples\n",
      "64/64 [==============================] - 5s 76ms/sample - loss: 0.2395 - acc: 0.9062\n",
      "_____________________________________________________________________\n",
      "Iteration: 19\n",
      "Train on 64 samples\n",
      "64/64 [==============================] - 5s 75ms/sample - loss: 0.2386 - acc: 0.9062\n",
      "_____________________________________________________________________\n",
      "Iteration: 20\n",
      "Train on 64 samples\n",
      "64/64 [==============================] - 5s 75ms/sample - loss: 0.0971 - acc: 0.9844\n",
      "_____________________________________________________________________\n",
      "Iteration: 21\n",
      "Train on 64 samples\n",
      "64/64 [==============================] - 5s 74ms/sample - loss: 0.1769 - acc: 0.9375\n",
      "_____________________________________________________________________\n",
      "Iteration: 22\n",
      "Train on 64 samples\n",
      "64/64 [==============================] - 5s 78ms/sample - loss: 0.1367 - acc: 0.9531\n",
      "_____________________________________________________________________\n",
      "Iteration: 23\n",
      "Train on 64 samples\n",
      "64/64 [==============================] - 5s 73ms/sample - loss: 0.0805 - acc: 0.9844\n",
      "_____________________________________________________________________\n",
      "Iteration: 24\n",
      "Train on 64 samples\n",
      "64/64 [==============================] - 5s 73ms/sample - loss: 0.1373 - acc: 0.9375\n",
      "_____________________________________________________________________\n",
      "Iteration: 25\n",
      "Train on 64 samples\n",
      "64/64 [==============================] - 5s 73ms/sample - loss: 0.1209 - acc: 0.9688\n",
      "_____________________________________________________________________\n",
      "Iteration: 26\n",
      "Train on 64 samples\n",
      "64/64 [==============================] - 5s 75ms/sample - loss: 0.0699 - acc: 0.9844\n",
      "_____________________________________________________________________\n",
      "Iteration: 27\n",
      "Train on 64 samples\n",
      "64/64 [==============================] - 5s 76ms/sample - loss: 0.1678 - acc: 0.9219\n",
      "_____________________________________________________________________\n",
      "Iteration: 28\n",
      "Train on 64 samples\n",
      "64/64 [==============================] - 5s 73ms/sample - loss: 0.1712 - acc: 0.9219\n",
      "_____________________________________________________________________\n",
      "Iteration: 29\n",
      "Train on 64 samples\n",
      "64/64 [==============================] - 5s 74ms/sample - loss: 0.2151 - acc: 0.9062\n",
      "_____________________________________________________________________\n",
      "Iteration: 30\n",
      "Train on 64 samples\n",
      "64/64 [==============================] - 5s 74ms/sample - loss: 0.1650 - acc: 0.9219\n",
      "_____________________________________________________________________\n"
     ]
    }
   ],
   "source": [
    "epochs = 30\n",
    "batch_size = 64\n",
    "val_batch_size = 64\n",
    "image_side = 400\n",
    "\n",
    "loss = []\n",
    "acc = []\n",
    "val_loss = []\n",
    "val_acc = []\n",
    "\n",
    "for i in range(epochs):\n",
    "    images, labels, var_lap, fft = import_train_dataset(train_blur, train_focused, image_side, batch_size)\n",
    "    print('Iteration:', i+1)\n",
    "    hist = model.fit(x = [images, fft, var_lap], y=labels)\n",
    "    loss.append(hist.history['loss'])\n",
    "    acc.append(hist.history['acc'])\n",
    "    print('_____________________________________________________________________')"
   ]
  },
  {
   "cell_type": "markdown",
   "metadata": {},
   "source": [
    "### Saving the Model"
   ]
  },
  {
   "cell_type": "code",
   "execution_count": 289,
   "metadata": {},
   "outputs": [],
   "source": [
    "model.save('model_400.hdf5')"
   ]
  },
  {
   "cell_type": "markdown",
   "metadata": {},
   "source": [
    "### Plotting the Training Graphs"
   ]
  },
  {
   "cell_type": "code",
   "execution_count": 299,
   "metadata": {
    "scrolled": false
   },
   "outputs": [
    {
     "data": {
      "image/png": "[encoded data removed]",
      "text/plain": [
       "<Figure size 1440x720 with 1 Axes>"
      ]
     },
     "metadata": {
      "needs_background": "light"
     },
     "output_type": "display_data"
    }
   ],
   "source": [
    "%matplotlib inline\n",
    "\n",
    "plt.rcParams[\"figure.figsize\"] = (20,10)\n",
    "\n",
    "plt.plot(range(len(loss)), np.asarray(loss)*100)\n",
    "plt.plot(np.asarray(acc)*100)\n",
    "plt.title('Model Results', fontsize= 20)\n",
    "plt.ylabel('Percentage', fontsize= 18)\n",
    "plt.xlabel('Epochs', fontsize= 18)\n",
    "plt.legend(['Loss','Accuracy'], loc='upper left', fontsize = 16)\n",
    "\n",
    "plt.show()"
   ]
  },
  {
   "cell_type": "markdown",
   "metadata": {},
   "source": [
    "### Testing the Model on the Evaluation Dataset"
   ]
  },
  {
   "cell_type": "code",
   "execution_count": 300,
   "metadata": {},
   "outputs": [],
   "source": [
    "df1 = pd.read_excel(r'CERTH_ImageBlurDataset\\EvaluationSet\\DigitalBlurSet.xlsx')\n",
    "df2 = pd.read_excel(r'CERTH_ImageBlurDataset\\EvaluationSet\\NaturalBlurSet.xlsx')\n",
    "correct = 0\n",
    "image_size = 400\n",
    "half_side = int(image_size/2)\n",
    "\n",
    "total += df1['Image Name'].size\n",
    "\n",
    "for i in range(df1['Image Name'].size):\n",
    "    \n",
    "    images = []\n",
    "    labels = []\n",
    "    var_lap = []\n",
    "    fft = []\n",
    "    \n",
    "    image = cv2.imread(eval_path_1_blur + df1['Image Name'][i])\n",
    "    [x,y,_] = np.shape(image)\n",
    "    var_lap.append([np.var(cv2.Laplacian(image, cv2.CV_64F))])\n",
    "    image = image[(int(x/2)-half_side):(int(x/2)+half_side), (int(y/2)-half_side):(int(y/2)+half_side), :]\n",
    "    ftimage = np.fft.fft2(image)\n",
    "    ftimage = np.fft.fftshift(ftimage)\n",
    "    fft.append(abs(ftimage))\n",
    "    images.append(image)\n",
    "    \n",
    "    images = np.asarray(images, dtype=np.float32)/255\n",
    "    var_lap = np.asarray(var_lap, dtype=np.float32) / 1000\n",
    "    fft = np.asarray(fft, dtype=np.float32)/10000000\n",
    "    \n",
    "    x = model.predict(x = [images, fft, var_lap])\n",
    "    if ((x[0][0]>0.5 and df1['Blur Label'][i]==1) or (x[0][0]<0.5 and df1['Blur Label'][i]==-1)):\n",
    "        \n",
    "        correct = correct + 1\n",
    "\n",
    "total += df2['Image Name'].size\n",
    "\n",
    "for i in range(df2['Image Name'].size):\n",
    "    \n",
    "    images = []\n",
    "    labels = []\n",
    "    var_lap = []\n",
    "    fft = []\n",
    "    \n",
    "    image = cv2.imread(eval_path_2_blur + df2['Image Name'][i] + '.jpg')\n",
    "    [x,y,_] = np.shape(image)\n",
    "    var_lap.append([np.var(cv2.Laplacian(image, cv2.CV_64F))])\n",
    "    image = image[(int(x/2)-half_side):(int(x/2)+half_side), (int(y/2)-half_side):(int(y/2)+half_side), :]\n",
    "    ftimage = np.fft.fft2(image)\n",
    "    ftimage = np.fft.fftshift(ftimage)\n",
    "    fft.append(abs(ftimage))\n",
    "    images.append(image)\n",
    "    \n",
    "    images = np.asarray(images, dtype=np.float32)/255\n",
    "    var_lap = np.asarray(var_lap, dtype=np.float32) / 1000\n",
    "    fft = np.asarray(fft, dtype=np.float32)/10000000\n",
    "    \n",
    "    x = model.predict(x = [images, fft, var_lap])\n",
    "    if ((x[0][0]>0.5 and df2['Blur Label'][i]==1) or (x[0][0]<0.5 and df2['Blur Label'][i]==-1)):\n",
    "        \n",
    "        correct = correct + 1"
   ]
  },
  {
   "cell_type": "markdown",
   "metadata": {},
   "source": [
    "### Accuracy"
   ]
  },
  {
   "cell_type": "code",
   "execution_count": 306,
   "metadata": {},
   "outputs": [
    {
     "name": "stdout",
     "output_type": "stream",
     "text": [
      "The accuracy of the CNN on the Evaluation set is: 16.292382210479964 %\n"
     ]
    }
   ],
   "source": [
    "print(f'The accuracy of the CNN on the Evaluation set is: {correct/total*100} %')"
   ]
  },
  {
   "cell_type": "markdown",
   "metadata": {},
   "source": [
    "## Support Vector Machine Based Approach"
   ]
  },
  {
   "cell_type": "markdown",
   "metadata": {},
   "source": [
    "### Importing the Libraries"
   ]
  },
  {
   "cell_type": "code",
   "execution_count": 308,
   "metadata": {},
   "outputs": [],
   "source": [
    "from scipy.ndimage import variance\n",
    "from skimage import io\n",
    "from skimage.color import rgb2gray\n",
    "from skimage.filters import laplace\n",
    "from skimage.transform import resize\n",
    "from sklearn import preprocessing, svm\n",
    "from sklearn.metrics import accuracy_score"
   ]
  },
  {
   "cell_type": "markdown",
   "metadata": {},
   "source": [
    "### Creating the Training Dataset"
   ]
  },
  {
   "cell_type": "code",
   "execution_count": 309,
   "metadata": {},
   "outputs": [],
   "source": [
    "training_data = [] \n",
    "labels = []\n",
    "\n",
    "for i in train_blur:\n",
    "    img = io.imread(i)\n",
    "    img = rgb2gray(img)\n",
    "    edge_laplace = laplace(img, ksize=3)\n",
    "    training_data.append([variance(edge_laplace), np.amax(edge_laplace)])\n",
    "    labels.append(1)\n",
    "\n",
    "for i in train_focused:\n",
    "    img = io.imread(i)\n",
    "    img = rgb2gray(img)\n",
    "    edge_laplace = laplace(img, ksize=3)\n",
    "    training_data.append([variance(edge_laplace), np.amax(edge_laplace)])\n",
    "    labels.append(0)"
   ]
  },
  {
   "cell_type": "markdown",
   "metadata": {},
   "source": [
    "### Creating the Test Dataset"
   ]
  },
  {
   "cell_type": "code",
   "execution_count": 310,
   "metadata": {},
   "outputs": [],
   "source": [
    "test_data = []\n",
    "test_labels = []\n",
    "\n",
    "for i in range(df1['Image Name'].size):\n",
    "    \n",
    "    img = io.imread(eval_path_1_blur + df1['Image Name'][i])\n",
    "    img = rgb2gray(img)\n",
    "    edge_laplace = laplace(img, ksize=3)\n",
    "    test_data.append([variance(edge_laplace), np.amax(edge_laplace)])\n",
    "    test_labels.append(max(0, df1['Blur Label'][i]))\n",
    "\n",
    "for i in range(df2['Image Name'].size):\n",
    "    \n",
    "    img = io.imread(eval_path_2_blur + df2['Image Name'][i] + '.jpg')\n",
    "    img = rgb2gray(img)\n",
    "    edge_laplace = laplace(img, ksize=3)\n",
    "    test_data.append([variance(edge_laplace), np.amax(edge_laplace)])\n",
    "    test_labels.append(max(0, df2['Blur Label'][i]))"
   ]
  },
  {
   "cell_type": "markdown",
   "metadata": {},
   "source": [
    "### Training the SVM"
   ]
  },
  {
   "cell_type": "code",
   "execution_count": 312,
   "metadata": {},
   "outputs": [
    {
     "data": {
      "text/plain": [
       "SVC(C=1)"
      ]
     },
     "execution_count": 312,
     "metadata": {},
     "output_type": "execute_result"
    }
   ],
   "source": [
    "# train the classifier (support vector machine)\n",
    "train_data =  preprocessing.scale(training_data)\n",
    "clf = svm.SVC(C=1)\n",
    "clf.fit(train_data,labels)"
   ]
  },
  {
   "cell_type": "markdown",
   "metadata": {},
   "source": [
    "### Accuracy of the Model on the Training Dataset "
   ]
  },
  {
   "cell_type": "code",
   "execution_count": 315,
   "metadata": {},
   "outputs": [
    {
     "name": "stdout",
     "output_type": "stream",
     "text": [
      "The accuracy of the SVM on the training set is: 79.39698492462311 %\n"
     ]
    }
   ],
   "source": [
    "print(f'The accuracy of the SVM on the training set is: {accuracy_score(labels, clf.predict(train_data))*100} %')"
   ]
  },
  {
   "cell_type": "markdown",
   "metadata": {},
   "source": [
    "### Accuracy of the Model on the Evaluation Dataset"
   ]
  },
  {
   "cell_type": "code",
   "execution_count": 318,
   "metadata": {},
   "outputs": [
    {
     "name": "stdout",
     "output_type": "stream",
     "text": [
      "The accuracy of the SVM on the evaluation set is: 70.87837837837839 %\n"
     ]
    }
   ],
   "source": [
    "test_data =  preprocessing.scale(test_data)\n",
    "print(f'The accuracy of the SVM on the evaluation set is: {accuracy_score(test_labels, clf.predict(test_data))*100} %')"
   ]
  }
 ],
 "metadata": {
  "kernelspec": {
   "display_name": "Python 3",
   "language": "python",
   "name": "python3"
  },
  "language_info": {
   "codemirror_mode": {
    "name": "ipython",
    "version": 3
   },
   "file_extension": ".py",
   "mimetype": "text/x-python",
   "name": "python",
   "nbconvert_exporter": "python",
   "pygments_lexer": "ipython3",
   "version": "3.6.8rc1"
  }
 },
 "nbformat": 4,
 "nbformat_minor": 4
}
